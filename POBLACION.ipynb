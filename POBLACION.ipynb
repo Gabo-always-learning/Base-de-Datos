{
 "cells": [
  {
   "cell_type": "markdown",
   "metadata": {},
   "source": [
    "Se analizará una base de datos de Kaggle con información de población de varios paises del mundo."
   ]
  },
  {
   "cell_type": "code",
   "execution_count": null,
   "metadata": {},
   "outputs": [],
   "source": [
    "import mysql.connector\n",
    "import pandas as pd\n",
    "import matplotlib.pyplot as plt"
   ]
  },
  {
   "cell_type": "markdown",
   "metadata": {},
   "source": [
    "Haremos la conexión con la base de datos"
   ]
  },
  {
   "cell_type": "code",
   "execution_count": null,
   "metadata": {},
   "outputs": [],
   "source": [
    "def connect_to_db():\n",
    "    return mysql.connector.connect(\n",
    "        host=\"localhost\",\n",
    "        port=3306,\n",
    "        user=\"root\",\n",
    "        password=\"1234\",\n",
    "        database=\"POBLACION\"\n",
    "    )\n",
    "\n",
    "def query_db(query):\n",
    "    connection = connect_to_db()\n",
    "    cursor = connection.cursor()\n",
    "    cursor.execute(query)\n",
    "    data = cursor.fetchall()\n",
    "    columns = [col[0] for col in cursor.description]\n",
    "    df = pd.DataFrame(data, columns=columns)\n",
    "    cursor.close()\n",
    "    connection.close()\n",
    "    return df\n"
   ]
  },
  {
   "cell_type": "markdown",
   "metadata": {},
   "source": [
    "Crearemos una tabla con los datos de México"
   ]
  },
  {
   "cell_type": "code",
   "execution_count": null,
   "metadata": {},
   "outputs": [],
   "source": [
    "query_1 = '''\n",
    "    SELECT * FROM Poblacion_global\n",
    "    WHERE Country_Name = \"Mexico\"\n",
    "'''\n",
    "df_mx = query_db(query_1)\n",
    "\n",
    "df_mx"
   ]
  },
  {
   "cell_type": "markdown",
   "metadata": {},
   "source": [
    "Podemos ver cuanta gente ha tenido 80 años o más a lo largo de los años"
   ]
  },
  {
   "cell_type": "code",
   "execution_count": null,
   "metadata": {},
   "outputs": [],
   "source": [
    "df_mx_80 = df_mx[['Indicator_Name']==['Population ages 80 and above, male','Population ages 80 and above, female']]\n",
    "df_mx_80"
   ]
  },
  {
   "cell_type": "markdown",
   "metadata": {},
   "source": [
    "Y podemos hacer una tabla comparativa de hombres y mujeres."
   ]
  },
  {
   "cell_type": "code",
   "execution_count": null,
   "metadata": {},
   "outputs": [],
   "source": [
    "df_mx_80.drop(columns=['Country_Name','Country_Code','Indicator_Name'])\n",
    "x = [i for i in range(1960,2023,1)]\n",
    "f_80 = df_mx_80.iloc[0]\n",
    "m_80 = df_mx_80.iloc[1]\n",
    "\n",
    "plt.plot(x,f_80,'bo',m_80,'ro')\n"
   ]
  },
  {
   "cell_type": "markdown",
   "metadata": {},
   "source": [
    "Una pregunta interesante podria ser, ¿cuántos adultos mayores a 60 años hay en el año 2019 y cuántos en el año 2020? Esto para ver que tanto afecto la pandemia."
   ]
  },
  {
   "cell_type": "code",
   "execution_count": null,
   "metadata": {},
   "outputs": [],
   "source": [
    "query_2 = '''\n",
    "SELECT  Indicator_Name, SUM(2019), SUM(2020) FROM Poblacion_global\n",
    "WHERE Country_Name = \"Mexico\" AND Indicator_Name = \"Population ages 80 and above, male\"\n",
    "OR Country_Name = \"Mexico\" AND Indicator_Name = \"Population ages 80 and above, female\"\n",
    "OR Country_Name = \"Mexico\" AND Indicator_Name = \"Population ages 70 and above, male\"\n",
    "OR Country_Name = \"Mexico\" AND Indicator_Name = \"Population ages 70 and above, female\"\n",
    "OR Country_Name = \"Mexico\" AND Indicator_Name = \"Population ages 60 and above, male\"\n",
    "OR Country_Name = \"Mexico\" AND Indicator_Name = \"Population ages 80 and above, female\"\n",
    "'''\n",
    "\n",
    "df_mx_mayores  = query_db(query_2)\n",
    "\n",
    "df_mx_mayores.iloc[0,1] "
   ]
  }
 ],
 "metadata": {
  "kernelspec": {
   "display_name": "base",
   "language": "python",
   "name": "python3"
  },
  "language_info": {
   "name": "python",
   "version": "3.11.5"
  }
 },
 "nbformat": 4,
 "nbformat_minor": 2
}
